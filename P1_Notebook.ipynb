{
 "cells": [
  {
   "cell_type": "markdown",
   "metadata": {},
   "source": [
    "### Part A"
   ]
  },
  {
   "cell_type": "code",
   "execution_count": 103,
   "metadata": {},
   "outputs": [],
   "source": [
    "# HERE YOU WILL WRITE CODE TO TEST A NUMBER OF PREDICTORS\n",
    "# AND FINALLY CHOOSE AND TRAIN THE PREDICTOR THAT YOU WILL BE USING FOR PART B"
   ]
  },
  {
   "cell_type": "markdown",
   "metadata": {},
   "source": [
    "# Approach\n",
    "\n",
    "### Problem definition\n",
    "\n",
    "Using the CSV data of 21 numeric column values predict the  class value TRUE or FALSE(binary classification).\n",
    "\n",
    "### Data\n",
    "\n",
    "The Sample data having 21 Numeric column values and one boolean values\n",
    "\n",
    "### EDA\n",
    "\n",
    "Perform the basic EDA for identify the class imbalance and outliers\n",
    "\n",
    "### Data Preprocessing\n",
    "\n",
    "Remove the Null values by filling the mean value\n",
    "\n",
    "### Modeling and comparison\n",
    "\n",
    "Select the classification model available in scikit lern model map https://scikit-learn.org/stable/tutorial/machine_learning_map/index.html\n",
    "\n",
    "### Hyperparameter tuning\n",
    "\n",
    "We are using 3 approaches for hyperparamter tuning\n",
    "\n",
    "- byhand\n",
    "- RandomizedSearchCV\n",
    "- GridSearchCV\n",
    "\n",
    "### Evaluation\n",
    "\n",
    "We will apply differnt evaluation metrix available for classfication model\n",
    "\n",
    "### Predict the class values from test data using the best model\n",
    "\n",
    "Finaly we fill use our best model to predict the class values from test data"
   ]
  },
  {
   "cell_type": "markdown",
   "metadata": {},
   "source": [
    "### Preparing the tools\n",
    "\n",
    "We're going to use pandas, Matplotlib and NumPy for data analysis and manipulation."
   ]
  },
  {
   "cell_type": "code",
   "execution_count": 104,
   "metadata": {},
   "outputs": [],
   "source": [
    "# Import all the tools we need\n",
    "\n",
    "# Regular EDA (exploratory data analysis) and plotting libraries\n",
    "import numpy as np\n",
    "import pandas as pd\n",
    "import matplotlib.pyplot as plt\n",
    "import seaborn as sns\n",
    "\n",
    "%matplotlib inline \n",
    "\n",
    "# Models from Scikit-Learn\n",
    "from sklearn.linear_model import LogisticRegression\n",
    "from sklearn.neighbors import KNeighborsClassifier\n",
    "from sklearn.ensemble import RandomForestClassifier\n",
    "from sklearn import svm\n",
    "from sklearn.svm import LinearSVC\n",
    "\n",
    "# Model Evaluations\n",
    "from sklearn.model_selection import train_test_split, cross_val_score\n",
    "from sklearn.model_selection import RandomizedSearchCV, GridSearchCV\n",
    "from sklearn.metrics import confusion_matrix, classification_report\n",
    "from sklearn.metrics import precision_score, recall_score, f1_score\n",
    "from sklearn.metrics import plot_roc_curve"
   ]
  },
  {
   "cell_type": "markdown",
   "metadata": {},
   "source": [
    "## Load data"
   ]
  },
  {
   "cell_type": "code",
   "execution_count": 105,
   "metadata": {},
   "outputs": [
    {
     "data": {
      "text/plain": [
       "(1000, 22)"
      ]
     },
     "execution_count": 105,
     "metadata": {},
     "output_type": "execute_result"
    }
   ],
   "source": [
    "df = pd.read_csv(\"P1_Data.csv\")\n",
    "df.shape # (rows, columns)"
   ]
  },
  {
   "cell_type": "markdown",
   "metadata": {},
   "source": [
    "## Data Exploration (exploratory data analysis or EDA)\n",
    "\n",
    "1. What question(s) are you trying to solve?\n",
    "2. What kind of data do we have and how do we treat different types?\n",
    "3. What's missing from the data and how do you deal with it?\n",
    "4. Where are the outliers and why should you care about them?\n",
    "5. How can you add, change or remove features to get more out of your data?\n",
    "6. Check for any class imbalance"
   ]
  },
  {
   "cell_type": "code",
   "execution_count": 106,
   "metadata": {},
   "outputs": [
    {
     "data": {
      "text/html": [
       "<div>\n",
       "<style scoped>\n",
       "    .dataframe tbody tr th:only-of-type {\n",
       "        vertical-align: middle;\n",
       "    }\n",
       "\n",
       "    .dataframe tbody tr th {\n",
       "        vertical-align: top;\n",
       "    }\n",
       "\n",
       "    .dataframe thead th {\n",
       "        text-align: right;\n",
       "    }\n",
       "</style>\n",
       "<table border=\"1\" class=\"dataframe\">\n",
       "  <thead>\n",
       "    <tr style=\"text-align: right;\">\n",
       "      <th></th>\n",
       "      <th>F1</th>\n",
       "      <th>F2</th>\n",
       "      <th>F3</th>\n",
       "      <th>F4</th>\n",
       "      <th>F5</th>\n",
       "      <th>F6</th>\n",
       "      <th>F7</th>\n",
       "      <th>F8</th>\n",
       "      <th>F9</th>\n",
       "      <th>F10</th>\n",
       "      <th>...</th>\n",
       "      <th>F13</th>\n",
       "      <th>F14</th>\n",
       "      <th>F15</th>\n",
       "      <th>F16</th>\n",
       "      <th>F17</th>\n",
       "      <th>F18</th>\n",
       "      <th>F19</th>\n",
       "      <th>F20</th>\n",
       "      <th>F21</th>\n",
       "      <th>Class</th>\n",
       "    </tr>\n",
       "  </thead>\n",
       "  <tbody>\n",
       "    <tr>\n",
       "      <th>0</th>\n",
       "      <td>1.6430</td>\n",
       "      <td>0</td>\n",
       "      <td>-4894.24</td>\n",
       "      <td>-13.0281</td>\n",
       "      <td>-4.793400</td>\n",
       "      <td>0</td>\n",
       "      <td>5.1270</td>\n",
       "      <td>-17.1100</td>\n",
       "      <td>-63.340</td>\n",
       "      <td>3.61690</td>\n",
       "      <td>...</td>\n",
       "      <td>5.783440</td>\n",
       "      <td>-11315.46</td>\n",
       "      <td>22912.53</td>\n",
       "      <td>-0.4</td>\n",
       "      <td>103811.34</td>\n",
       "      <td>5.4380</td>\n",
       "      <td>1747.920</td>\n",
       "      <td>-4879.68</td>\n",
       "      <td>-41.58</td>\n",
       "      <td>False</td>\n",
       "    </tr>\n",
       "    <tr>\n",
       "      <th>1</th>\n",
       "      <td>0.5310</td>\n",
       "      <td>0</td>\n",
       "      <td>-5085.44</td>\n",
       "      <td>-16.2210</td>\n",
       "      <td>-3.991776</td>\n",
       "      <td>0</td>\n",
       "      <td>4.6256</td>\n",
       "      <td>-4.5800</td>\n",
       "      <td>-10.314</td>\n",
       "      <td>3.64880</td>\n",
       "      <td>...</td>\n",
       "      <td>8.180000</td>\n",
       "      <td>-12852.96</td>\n",
       "      <td>25696.44</td>\n",
       "      <td>-0.4</td>\n",
       "      <td>103884.02</td>\n",
       "      <td>5.0960</td>\n",
       "      <td>1496.080</td>\n",
       "      <td>-4186.38</td>\n",
       "      <td>-45.96</td>\n",
       "      <td>True</td>\n",
       "    </tr>\n",
       "    <tr>\n",
       "      <th>2</th>\n",
       "      <td>0.2640</td>\n",
       "      <td>0</td>\n",
       "      <td>-7021.44</td>\n",
       "      <td>-11.7591</td>\n",
       "      <td>-6.161700</td>\n",
       "      <td>0</td>\n",
       "      <td>4.3628</td>\n",
       "      <td>-14.7118</td>\n",
       "      <td>-6.806</td>\n",
       "      <td>3.62830</td>\n",
       "      <td>...</td>\n",
       "      <td>5.760312</td>\n",
       "      <td>-11012.16</td>\n",
       "      <td>20232.84</td>\n",
       "      <td>-1.4</td>\n",
       "      <td>103987.08</td>\n",
       "      <td>2.3652</td>\n",
       "      <td>1523.412</td>\n",
       "      <td>-4067.28</td>\n",
       "      <td>NaN</td>\n",
       "      <td>False</td>\n",
       "    </tr>\n",
       "    <tr>\n",
       "      <th>3</th>\n",
       "      <td>0.3196</td>\n",
       "      <td>1</td>\n",
       "      <td>-4648.76</td>\n",
       "      <td>-11.8110</td>\n",
       "      <td>-4.217700</td>\n",
       "      <td>0</td>\n",
       "      <td>8.9380</td>\n",
       "      <td>-7.5360</td>\n",
       "      <td>-4.670</td>\n",
       "      <td>3.01503</td>\n",
       "      <td>...</td>\n",
       "      <td>6.437100</td>\n",
       "      <td>-10297.86</td>\n",
       "      <td>23592.84</td>\n",
       "      <td>-1.4</td>\n",
       "      <td>103842.08</td>\n",
       "      <td>4.4080</td>\n",
       "      <td>1506.810</td>\n",
       "      <td>1352.52</td>\n",
       "      <td>NaN</td>\n",
       "      <td>True</td>\n",
       "    </tr>\n",
       "    <tr>\n",
       "      <th>4</th>\n",
       "      <td>4.0800</td>\n",
       "      <td>0</td>\n",
       "      <td>-4877.20</td>\n",
       "      <td>-11.2635</td>\n",
       "      <td>-8.061000</td>\n",
       "      <td>1</td>\n",
       "      <td>6.2800</td>\n",
       "      <td>-14.5805</td>\n",
       "      <td>-45.920</td>\n",
       "      <td>3.60030</td>\n",
       "      <td>...</td>\n",
       "      <td>6.393200</td>\n",
       "      <td>-11527.38</td>\n",
       "      <td>24778.74</td>\n",
       "      <td>-1.4</td>\n",
       "      <td>103842.48</td>\n",
       "      <td>3.1334</td>\n",
       "      <td>1581.790</td>\n",
       "      <td>-5095.88</td>\n",
       "      <td>-45.93</td>\n",
       "      <td>True</td>\n",
       "    </tr>\n",
       "  </tbody>\n",
       "</table>\n",
       "<p>5 rows × 22 columns</p>\n",
       "</div>"
      ],
      "text/plain": [
       "       F1  F2       F3       F4        F5  F6      F7       F8      F9  \\\n",
       "0  1.6430   0 -4894.24 -13.0281 -4.793400   0  5.1270 -17.1100 -63.340   \n",
       "1  0.5310   0 -5085.44 -16.2210 -3.991776   0  4.6256  -4.5800 -10.314   \n",
       "2  0.2640   0 -7021.44 -11.7591 -6.161700   0  4.3628 -14.7118  -6.806   \n",
       "3  0.3196   1 -4648.76 -11.8110 -4.217700   0  8.9380  -7.5360  -4.670   \n",
       "4  4.0800   0 -4877.20 -11.2635 -8.061000   1  6.2800 -14.5805 -45.920   \n",
       "\n",
       "       F10  ...       F13       F14       F15  F16        F17     F18  \\\n",
       "0  3.61690  ...  5.783440 -11315.46  22912.53 -0.4  103811.34  5.4380   \n",
       "1  3.64880  ...  8.180000 -12852.96  25696.44 -0.4  103884.02  5.0960   \n",
       "2  3.62830  ...  5.760312 -11012.16  20232.84 -1.4  103987.08  2.3652   \n",
       "3  3.01503  ...  6.437100 -10297.86  23592.84 -1.4  103842.08  4.4080   \n",
       "4  3.60030  ...  6.393200 -11527.38  24778.74 -1.4  103842.48  3.1334   \n",
       "\n",
       "        F19      F20    F21  Class  \n",
       "0  1747.920 -4879.68 -41.58  False  \n",
       "1  1496.080 -4186.38 -45.96   True  \n",
       "2  1523.412 -4067.28    NaN  False  \n",
       "3  1506.810  1352.52    NaN   True  \n",
       "4  1581.790 -5095.88 -45.93   True  \n",
       "\n",
       "[5 rows x 22 columns]"
      ]
     },
     "execution_count": 106,
     "metadata": {},
     "output_type": "execute_result"
    }
   ],
   "source": [
    "df.head()"
   ]
  },
  {
   "cell_type": "code",
   "execution_count": 107,
   "metadata": {},
   "outputs": [
    {
     "data": {
      "text/html": [
       "<div>\n",
       "<style scoped>\n",
       "    .dataframe tbody tr th:only-of-type {\n",
       "        vertical-align: middle;\n",
       "    }\n",
       "\n",
       "    .dataframe tbody tr th {\n",
       "        vertical-align: top;\n",
       "    }\n",
       "\n",
       "    .dataframe thead th {\n",
       "        text-align: right;\n",
       "    }\n",
       "</style>\n",
       "<table border=\"1\" class=\"dataframe\">\n",
       "  <thead>\n",
       "    <tr style=\"text-align: right;\">\n",
       "      <th></th>\n",
       "      <th>F1</th>\n",
       "      <th>F2</th>\n",
       "      <th>F3</th>\n",
       "      <th>F4</th>\n",
       "      <th>F5</th>\n",
       "      <th>F6</th>\n",
       "      <th>F7</th>\n",
       "      <th>F8</th>\n",
       "      <th>F9</th>\n",
       "      <th>F10</th>\n",
       "      <th>...</th>\n",
       "      <th>F13</th>\n",
       "      <th>F14</th>\n",
       "      <th>F15</th>\n",
       "      <th>F16</th>\n",
       "      <th>F17</th>\n",
       "      <th>F18</th>\n",
       "      <th>F19</th>\n",
       "      <th>F20</th>\n",
       "      <th>F21</th>\n",
       "      <th>Class</th>\n",
       "    </tr>\n",
       "  </thead>\n",
       "  <tbody>\n",
       "    <tr>\n",
       "      <th>995</th>\n",
       "      <td>0.6828</td>\n",
       "      <td>1</td>\n",
       "      <td>-5766.04</td>\n",
       "      <td>-11.8536</td>\n",
       "      <td>-4.8666</td>\n",
       "      <td>1</td>\n",
       "      <td>7.93800</td>\n",
       "      <td>-11.172</td>\n",
       "      <td>-8.014</td>\n",
       "      <td>3.2704</td>\n",
       "      <td>...</td>\n",
       "      <td>7.489000</td>\n",
       "      <td>-11922.06</td>\n",
       "      <td>23569.44</td>\n",
       "      <td>-1.4</td>\n",
       "      <td>103930.52</td>\n",
       "      <td>2.8358</td>\n",
       "      <td>1551.190</td>\n",
       "      <td>-5559.68</td>\n",
       "      <td>NaN</td>\n",
       "      <td>False</td>\n",
       "    </tr>\n",
       "    <tr>\n",
       "      <th>996</th>\n",
       "      <td>1.2240</td>\n",
       "      <td>1</td>\n",
       "      <td>-4424.64</td>\n",
       "      <td>-16.6770</td>\n",
       "      <td>-8.3130</td>\n",
       "      <td>1</td>\n",
       "      <td>4.91960</td>\n",
       "      <td>-15.150</td>\n",
       "      <td>-12.676</td>\n",
       "      <td>3.8161</td>\n",
       "      <td>...</td>\n",
       "      <td>7.069000</td>\n",
       "      <td>-11328.69</td>\n",
       "      <td>24196.14</td>\n",
       "      <td>-0.4</td>\n",
       "      <td>103922.40</td>\n",
       "      <td>4.0364</td>\n",
       "      <td>1519.940</td>\n",
       "      <td>-4089.48</td>\n",
       "      <td>NaN</td>\n",
       "      <td>False</td>\n",
       "    </tr>\n",
       "    <tr>\n",
       "      <th>997</th>\n",
       "      <td>0.9912</td>\n",
       "      <td>1</td>\n",
       "      <td>-5566.64</td>\n",
       "      <td>-10.9698</td>\n",
       "      <td>-8.3640</td>\n",
       "      <td>0</td>\n",
       "      <td>3.99842</td>\n",
       "      <td>-15.426</td>\n",
       "      <td>-17.442</td>\n",
       "      <td>3.7323</td>\n",
       "      <td>...</td>\n",
       "      <td>5.875600</td>\n",
       "      <td>-12229.26</td>\n",
       "      <td>18449.64</td>\n",
       "      <td>-1.4</td>\n",
       "      <td>103872.12</td>\n",
       "      <td>3.8368</td>\n",
       "      <td>1509.360</td>\n",
       "      <td>-3772.28</td>\n",
       "      <td>NaN</td>\n",
       "      <td>True</td>\n",
       "    </tr>\n",
       "    <tr>\n",
       "      <th>998</th>\n",
       "      <td>0.6697</td>\n",
       "      <td>1</td>\n",
       "      <td>-4630.96</td>\n",
       "      <td>-11.4516</td>\n",
       "      <td>-4.9707</td>\n",
       "      <td>0</td>\n",
       "      <td>8.61600</td>\n",
       "      <td>-19.522</td>\n",
       "      <td>-1.698</td>\n",
       "      <td>3.2263</td>\n",
       "      <td>...</td>\n",
       "      <td>5.761497</td>\n",
       "      <td>-10846.56</td>\n",
       "      <td>23102.40</td>\n",
       "      <td>-1.4</td>\n",
       "      <td>103837.70</td>\n",
       "      <td>4.4460</td>\n",
       "      <td>1549.200</td>\n",
       "      <td>-3947.68</td>\n",
       "      <td>-40.11</td>\n",
       "      <td>False</td>\n",
       "    </tr>\n",
       "    <tr>\n",
       "      <th>999</th>\n",
       "      <td>0.8394</td>\n",
       "      <td>1</td>\n",
       "      <td>-5488.44</td>\n",
       "      <td>-11.9115</td>\n",
       "      <td>-5.1072</td>\n",
       "      <td>0</td>\n",
       "      <td>7.04600</td>\n",
       "      <td>-12.875</td>\n",
       "      <td>-13.292</td>\n",
       "      <td>3.3053</td>\n",
       "      <td>...</td>\n",
       "      <td>6.069900</td>\n",
       "      <td>-11860.29</td>\n",
       "      <td>23621.04</td>\n",
       "      <td>-0.4</td>\n",
       "      <td>103885.30</td>\n",
       "      <td>3.4320</td>\n",
       "      <td>1522.223</td>\n",
       "      <td>-4645.08</td>\n",
       "      <td>NaN</td>\n",
       "      <td>True</td>\n",
       "    </tr>\n",
       "  </tbody>\n",
       "</table>\n",
       "<p>5 rows × 22 columns</p>\n",
       "</div>"
      ],
      "text/plain": [
       "         F1  F2       F3       F4      F5  F6       F7      F8      F9  \\\n",
       "995  0.6828   1 -5766.04 -11.8536 -4.8666   1  7.93800 -11.172  -8.014   \n",
       "996  1.2240   1 -4424.64 -16.6770 -8.3130   1  4.91960 -15.150 -12.676   \n",
       "997  0.9912   1 -5566.64 -10.9698 -8.3640   0  3.99842 -15.426 -17.442   \n",
       "998  0.6697   1 -4630.96 -11.4516 -4.9707   0  8.61600 -19.522  -1.698   \n",
       "999  0.8394   1 -5488.44 -11.9115 -5.1072   0  7.04600 -12.875 -13.292   \n",
       "\n",
       "        F10  ...       F13       F14       F15  F16        F17     F18  \\\n",
       "995  3.2704  ...  7.489000 -11922.06  23569.44 -1.4  103930.52  2.8358   \n",
       "996  3.8161  ...  7.069000 -11328.69  24196.14 -0.4  103922.40  4.0364   \n",
       "997  3.7323  ...  5.875600 -12229.26  18449.64 -1.4  103872.12  3.8368   \n",
       "998  3.2263  ...  5.761497 -10846.56  23102.40 -1.4  103837.70  4.4460   \n",
       "999  3.3053  ...  6.069900 -11860.29  23621.04 -0.4  103885.30  3.4320   \n",
       "\n",
       "          F19      F20    F21  Class  \n",
       "995  1551.190 -5559.68    NaN  False  \n",
       "996  1519.940 -4089.48    NaN  False  \n",
       "997  1509.360 -3772.28    NaN   True  \n",
       "998  1549.200 -3947.68 -40.11  False  \n",
       "999  1522.223 -4645.08    NaN   True  \n",
       "\n",
       "[5 rows x 22 columns]"
      ]
     },
     "execution_count": 107,
     "metadata": {},
     "output_type": "execute_result"
    }
   ],
   "source": [
    "df.tail()"
   ]
  },
  {
   "cell_type": "code",
   "execution_count": 108,
   "metadata": {},
   "outputs": [
    {
     "data": {
      "text/plain": [
       "True     506\n",
       "False    494\n",
       "Name: Class, dtype: int64"
      ]
     },
     "execution_count": 108,
     "metadata": {},
     "output_type": "execute_result"
    }
   ],
   "source": [
    "# Let's find out how many of each class there\n",
    "df[\"Class\"].value_counts()"
   ]
  },
  {
   "cell_type": "code",
   "execution_count": 109,
   "metadata": {},
   "outputs": [
    {
     "data": {
      "image/png": "[encoded data removed]",
      "text/plain": [
       "<Figure size 432x288 with 1 Axes>"
      ]
     },
     "metadata": {
      "needs_background": "light"
     },
     "output_type": "display_data"
    }
   ],
   "source": [
    "df[\"Class\"].value_counts().plot(kind=\"bar\", color=[\"salmon\", \"lightblue\"]);"
   ]
  },
  {
   "cell_type": "code",
   "execution_count": 110,
   "metadata": {},
   "outputs": [
    {
     "name": "stdout",
     "output_type": "stream",
     "text": [
      "<class 'pandas.core.frame.DataFrame'>\n",
      "RangeIndex: 1000 entries, 0 to 999\n",
      "Data columns (total 22 columns):\n",
      " #   Column  Non-Null Count  Dtype  \n",
      "---  ------  --------------  -----  \n",
      " 0   F1      1000 non-null   float64\n",
      " 1   F2      1000 non-null   int64  \n",
      " 2   F3      1000 non-null   float64\n",
      " 3   F4      1000 non-null   float64\n",
      " 4   F5      1000 non-null   float64\n",
      " 5   F6      1000 non-null   int64  \n",
      " 6   F7      1000 non-null   float64\n",
      " 7   F8      1000 non-null   float64\n",
      " 8   F9      1000 non-null   float64\n",
      " 9   F10     1000 non-null   float64\n",
      " 10  F11     1000 non-null   float64\n",
      " 11  F12     1000 non-null   float64\n",
      " 12  F13     1000 non-null   float64\n",
      " 13  F14     1000 non-null   float64\n",
      " 14  F15     1000 non-null   float64\n",
      " 15  F16     1000 non-null   float64\n",
      " 16  F17     1000 non-null   float64\n",
      " 17  F18     1000 non-null   float64\n",
      " 18  F19     1000 non-null   float64\n",
      " 19  F20     1000 non-null   float64\n",
      " 20  F21     500 non-null    float64\n",
      " 21  Class   1000 non-null   bool   \n",
      "dtypes: bool(1), float64(19), int64(2)\n",
      "memory usage: 165.2 KB\n"
     ]
    }
   ],
   "source": [
    "df.info()"
   ]
  },
  {
   "cell_type": "code",
   "execution_count": 111,
   "metadata": {},
   "outputs": [
    {
     "data": {
      "text/plain": [
       "F1         0\n",
       "F2         0\n",
       "F3         0\n",
       "F4         0\n",
       "F5         0\n",
       "F6         0\n",
       "F7         0\n",
       "F8         0\n",
       "F9         0\n",
       "F10        0\n",
       "F11        0\n",
       "F12        0\n",
       "F13        0\n",
       "F14        0\n",
       "F15        0\n",
       "F16        0\n",
       "F17        0\n",
       "F18        0\n",
       "F19        0\n",
       "F20        0\n",
       "F21      500\n",
       "Class      0\n",
       "dtype: int64"
      ]
     },
     "execution_count": 111,
     "metadata": {},
     "output_type": "execute_result"
    }
   ],
   "source": [
    "# Are there any missing values?\n",
    "df.isna().sum()"
   ]
  },
  {
   "cell_type": "code",
   "execution_count": 112,
   "metadata": {},
   "outputs": [
    {
     "data": {
      "text/html": [
       "<div>\n",
       "<style scoped>\n",
       "    .dataframe tbody tr th:only-of-type {\n",
       "        vertical-align: middle;\n",
       "    }\n",
       "\n",
       "    .dataframe tbody tr th {\n",
       "        vertical-align: top;\n",
       "    }\n",
       "\n",
       "    .dataframe thead th {\n",
       "        text-align: right;\n",
       "    }\n",
       "</style>\n",
       "<table border=\"1\" class=\"dataframe\">\n",
       "  <thead>\n",
       "    <tr style=\"text-align: right;\">\n",
       "      <th></th>\n",
       "      <th>F1</th>\n",
       "      <th>F2</th>\n",
       "      <th>F3</th>\n",
       "      <th>F4</th>\n",
       "      <th>F5</th>\n",
       "      <th>F6</th>\n",
       "      <th>F7</th>\n",
       "      <th>F8</th>\n",
       "      <th>F9</th>\n",
       "      <th>F10</th>\n",
       "      <th>...</th>\n",
       "      <th>F12</th>\n",
       "      <th>F13</th>\n",
       "      <th>F14</th>\n",
       "      <th>F15</th>\n",
       "      <th>F16</th>\n",
       "      <th>F17</th>\n",
       "      <th>F18</th>\n",
       "      <th>F19</th>\n",
       "      <th>F20</th>\n",
       "      <th>F21</th>\n",
       "    </tr>\n",
       "  </thead>\n",
       "  <tbody>\n",
       "    <tr>\n",
       "      <th>count</th>\n",
       "      <td>1000.000000</td>\n",
       "      <td>1000.000000</td>\n",
       "      <td>1000.000000</td>\n",
       "      <td>1000.000000</td>\n",
       "      <td>1000.000000</td>\n",
       "      <td>1000.000000</td>\n",
       "      <td>1000.000000</td>\n",
       "      <td>1000.000000</td>\n",
       "      <td>1000.000000</td>\n",
       "      <td>1000.000000</td>\n",
       "      <td>...</td>\n",
       "      <td>1000.000000</td>\n",
       "      <td>1000.000000</td>\n",
       "      <td>1000.000000</td>\n",
       "      <td>1000.000000</td>\n",
       "      <td>1000.000000</td>\n",
       "      <td>1000.000000</td>\n",
       "      <td>1000.000000</td>\n",
       "      <td>1000.000000</td>\n",
       "      <td>1000.000000</td>\n",
       "      <td>500.000000</td>\n",
       "    </tr>\n",
       "    <tr>\n",
       "      <th>mean</th>\n",
       "      <td>1.067873</td>\n",
       "      <td>0.507000</td>\n",
       "      <td>-5361.832102</td>\n",
       "      <td>-13.230040</td>\n",
       "      <td>-6.313792</td>\n",
       "      <td>0.481000</td>\n",
       "      <td>5.890532</td>\n",
       "      <td>-14.141708</td>\n",
       "      <td>-20.424599</td>\n",
       "      <td>3.938608</td>\n",
       "      <td>...</td>\n",
       "      <td>-3.621917</td>\n",
       "      <td>6.244264</td>\n",
       "      <td>-11630.293754</td>\n",
       "      <td>24105.732399</td>\n",
       "      <td>-0.929000</td>\n",
       "      <td>103949.541430</td>\n",
       "      <td>3.988717</td>\n",
       "      <td>1451.053607</td>\n",
       "      <td>-3933.396979</td>\n",
       "      <td>-44.650560</td>\n",
       "    </tr>\n",
       "    <tr>\n",
       "      <th>std</th>\n",
       "      <td>0.902763</td>\n",
       "      <td>0.500201</td>\n",
       "      <td>1494.941683</td>\n",
       "      <td>2.560369</td>\n",
       "      <td>1.842535</td>\n",
       "      <td>0.499889</td>\n",
       "      <td>1.799838</td>\n",
       "      <td>4.861641</td>\n",
       "      <td>20.571395</td>\n",
       "      <td>0.901204</td>\n",
       "      <td>...</td>\n",
       "      <td>1.805553</td>\n",
       "      <td>0.671938</td>\n",
       "      <td>1534.747192</td>\n",
       "      <td>3111.533532</td>\n",
       "      <td>0.499408</td>\n",
       "      <td>3376.459607</td>\n",
       "      <td>1.739357</td>\n",
       "      <td>246.538717</td>\n",
       "      <td>1405.781722</td>\n",
       "      <td>3.188244</td>\n",
       "    </tr>\n",
       "    <tr>\n",
       "      <th>min</th>\n",
       "      <td>0.112200</td>\n",
       "      <td>0.000000</td>\n",
       "      <td>-15323.440000</td>\n",
       "      <td>-23.889000</td>\n",
       "      <td>-14.613000</td>\n",
       "      <td>0.000000</td>\n",
       "      <td>3.942760</td>\n",
       "      <td>-29.850000</td>\n",
       "      <td>-163.680000</td>\n",
       "      <td>3.002990</td>\n",
       "      <td>...</td>\n",
       "      <td>-10.616000</td>\n",
       "      <td>5.760001</td>\n",
       "      <td>-23402.760000</td>\n",
       "      <td>10433.640000</td>\n",
       "      <td>-1.400000</td>\n",
       "      <td>96416.660000</td>\n",
       "      <td>2.144440</td>\n",
       "      <td>-139.080000</td>\n",
       "      <td>-11393.480000</td>\n",
       "      <td>-54.960000</td>\n",
       "    </tr>\n",
       "    <tr>\n",
       "      <th>25%</th>\n",
       "      <td>0.396475</td>\n",
       "      <td>0.000000</td>\n",
       "      <td>-5523.540000</td>\n",
       "      <td>-14.325000</td>\n",
       "      <td>-7.453500</td>\n",
       "      <td>0.000000</td>\n",
       "      <td>4.487150</td>\n",
       "      <td>-17.209750</td>\n",
       "      <td>-26.025000</td>\n",
       "      <td>3.261825</td>\n",
       "      <td>...</td>\n",
       "      <td>-4.447000</td>\n",
       "      <td>5.803685</td>\n",
       "      <td>-12032.460000</td>\n",
       "      <td>22905.300000</td>\n",
       "      <td>-1.400000</td>\n",
       "      <td>103814.590000</td>\n",
       "      <td>2.686650</td>\n",
       "      <td>1437.582500</td>\n",
       "      <td>-4495.635000</td>\n",
       "      <td>-46.875000</td>\n",
       "    </tr>\n",
       "    <tr>\n",
       "      <th>50%</th>\n",
       "      <td>0.783700</td>\n",
       "      <td>1.000000</td>\n",
       "      <td>-4984.540000</td>\n",
       "      <td>-12.416250</td>\n",
       "      <td>-5.912250</td>\n",
       "      <td>0.000000</td>\n",
       "      <td>5.309600</td>\n",
       "      <td>-14.180050</td>\n",
       "      <td>-14.284000</td>\n",
       "      <td>3.657250</td>\n",
       "      <td>...</td>\n",
       "      <td>-3.064500</td>\n",
       "      <td>5.993600</td>\n",
       "      <td>-11597.425500</td>\n",
       "      <td>23486.040000</td>\n",
       "      <td>-1.400000</td>\n",
       "      <td>103852.225000</td>\n",
       "      <td>3.478100</td>\n",
       "      <td>1504.890000</td>\n",
       "      <td>-4210.100000</td>\n",
       "      <td>-44.505000</td>\n",
       "    </tr>\n",
       "    <tr>\n",
       "      <th>75%</th>\n",
       "      <td>1.464250</td>\n",
       "      <td>1.000000</td>\n",
       "      <td>-4731.133500</td>\n",
       "      <td>-11.337000</td>\n",
       "      <td>-4.853100</td>\n",
       "      <td>1.000000</td>\n",
       "      <td>6.856500</td>\n",
       "      <td>-11.066750</td>\n",
       "      <td>-6.504000</td>\n",
       "      <td>4.307000</td>\n",
       "      <td>...</td>\n",
       "      <td>-2.234900</td>\n",
       "      <td>6.399525</td>\n",
       "      <td>-11223.660000</td>\n",
       "      <td>24446.265000</td>\n",
       "      <td>-0.400000</td>\n",
       "      <td>103890.880000</td>\n",
       "      <td>4.759000</td>\n",
       "      <td>1537.961250</td>\n",
       "      <td>-3746.730000</td>\n",
       "      <td>-42.450000</td>\n",
       "    </tr>\n",
       "    <tr>\n",
       "      <th>max</th>\n",
       "      <td>4.602000</td>\n",
       "      <td>1.000000</td>\n",
       "      <td>2722.560000</td>\n",
       "      <td>-10.533870</td>\n",
       "      <td>-3.991776</td>\n",
       "      <td>1.000000</td>\n",
       "      <td>12.744000</td>\n",
       "      <td>5.030000</td>\n",
       "      <td>-0.124656</td>\n",
       "      <td>7.555000</td>\n",
       "      <td>...</td>\n",
       "      <td>-1.644240</td>\n",
       "      <td>11.578000</td>\n",
       "      <td>-1190.760000</td>\n",
       "      <td>47423.640000</td>\n",
       "      <td>-0.400000</td>\n",
       "      <td>209390.660000</td>\n",
       "      <td>11.170000</td>\n",
       "      <td>3091.920000</td>\n",
       "      <td>5696.520000</td>\n",
       "      <td>-34.530000</td>\n",
       "    </tr>\n",
       "  </tbody>\n",
       "</table>\n",
       "<p>8 rows × 21 columns</p>\n",
       "</div>"
      ],
      "text/plain": [
       "                F1           F2            F3           F4           F5  \\\n",
       "count  1000.000000  1000.000000   1000.000000  1000.000000  1000.000000   \n",
       "mean      1.067873     0.507000  -5361.832102   -13.230040    -6.313792   \n",
       "std       0.902763     0.500201   1494.941683     2.560369     1.842535   \n",
       "min       0.112200     0.000000 -15323.440000   -23.889000   -14.613000   \n",
       "25%       0.396475     0.000000  -5523.540000   -14.325000    -7.453500   \n",
       "50%       0.783700     1.000000  -4984.540000   -12.416250    -5.912250   \n",
       "75%       1.464250     1.000000  -4731.133500   -11.337000    -4.853100   \n",
       "max       4.602000     1.000000   2722.560000   -10.533870    -3.991776   \n",
       "\n",
       "                F6           F7           F8           F9          F10  ...  \\\n",
       "count  1000.000000  1000.000000  1000.000000  1000.000000  1000.000000  ...   \n",
       "mean      0.481000     5.890532   -14.141708   -20.424599     3.938608  ...   \n",
       "std       0.499889     1.799838     4.861641    20.571395     0.901204  ...   \n",
       "min       0.000000     3.942760   -29.850000  -163.680000     3.002990  ...   \n",
       "25%       0.000000     4.487150   -17.209750   -26.025000     3.261825  ...   \n",
       "50%       0.000000     5.309600   -14.180050   -14.284000     3.657250  ...   \n",
       "75%       1.000000     6.856500   -11.066750    -6.504000     4.307000  ...   \n",
       "max       1.000000    12.744000     5.030000    -0.124656     7.555000  ...   \n",
       "\n",
       "               F12          F13           F14           F15          F16  \\\n",
       "count  1000.000000  1000.000000   1000.000000   1000.000000  1000.000000   \n",
       "mean     -3.621917     6.244264 -11630.293754  24105.732399    -0.929000   \n",
       "std       1.805553     0.671938   1534.747192   3111.533532     0.499408   \n",
       "min     -10.616000     5.760001 -23402.760000  10433.640000    -1.400000   \n",
       "25%      -4.447000     5.803685 -12032.460000  22905.300000    -1.400000   \n",
       "50%      -3.064500     5.993600 -11597.425500  23486.040000    -1.400000   \n",
       "75%      -2.234900     6.399525 -11223.660000  24446.265000    -0.400000   \n",
       "max      -1.644240    11.578000  -1190.760000  47423.640000    -0.400000   \n",
       "\n",
       "                 F17          F18          F19           F20         F21  \n",
       "count    1000.000000  1000.000000  1000.000000   1000.000000  500.000000  \n",
       "mean   103949.541430     3.988717  1451.053607  -3933.396979  -44.650560  \n",
       "std      3376.459607     1.739357   246.538717   1405.781722    3.188244  \n",
       "min     96416.660000     2.144440  -139.080000 -11393.480000  -54.960000  \n",
       "25%    103814.590000     2.686650  1437.582500  -4495.635000  -46.875000  \n",
       "50%    103852.225000     3.478100  1504.890000  -4210.100000  -44.505000  \n",
       "75%    103890.880000     4.759000  1537.961250  -3746.730000  -42.450000  \n",
       "max    209390.660000    11.170000  3091.920000   5696.520000  -34.530000  \n",
       "\n",
       "[8 rows x 21 columns]"
      ]
     },
     "execution_count": 112,
     "metadata": {},
     "output_type": "execute_result"
    }
   ],
   "source": [
    "df.describe()"
   ]
  },
  {
   "cell_type": "markdown",
   "metadata": {},
   "source": [
    "## Correlation matrix between the fields"
   ]
  },
  {
   "cell_type": "code",
   "execution_count": 113,
   "metadata": {},
   "outputs": [
    {
     "data": {
      "text/plain": [
       "(22.5, -0.5)"
      ]
     },
     "execution_count": 113,
     "metadata": {},
     "output_type": "execute_result"
    },
    {
     "data": {
      "image/png": "[encoded data removed]",
      "text/plain": [
       "<Figure size 1080x720 with 2 Axes>"
      ]
     },
     "metadata": {
      "needs_background": "light"
     },
     "output_type": "display_data"
    }
   ],
   "source": [
    "\n",
    "corr_matrix = df.corr()\n",
    "fig, ax = plt.subplots(figsize=(15, 10))\n",
    "ax = sns.heatmap(corr_matrix,\n",
    "                 annot=True,\n",
    "                 linewidths=0.5,\n",
    "                 fmt=\".2f\",\n",
    "                 cmap=\"YlGnBu\");\n",
    "bottom, top = ax.get_ylim()\n",
    "ax.set_ylim(bottom + 0.5, top - 0.5)"
   ]
  },
  {
   "cell_type": "markdown",
   "metadata": {},
   "source": [
    "## Getting our data ready to be used with machine learning\n",
    "\n",
    "Three main things we have to do:\n",
    "\n",
    "1. Split the data into features and labels (usually `X` & `y`)\n",
    "2. Filling (also called imputing) or disregarding missing values\n",
    "3. Converting non-numerical values to numerical values (also called feature encoding)"
   ]
  },
  {
   "cell_type": "code",
   "execution_count": 114,
   "metadata": {},
   "outputs": [
    {
     "data": {
      "text/plain": [
       "F1       0\n",
       "F2       0\n",
       "F3       0\n",
       "F4       0\n",
       "F5       0\n",
       "F6       0\n",
       "F7       0\n",
       "F8       0\n",
       "F9       0\n",
       "F10      0\n",
       "F11      0\n",
       "F12      0\n",
       "F13      0\n",
       "F14      0\n",
       "F15      0\n",
       "F16      0\n",
       "F17      0\n",
       "F18      0\n",
       "F19      0\n",
       "F20      0\n",
       "F21      0\n",
       "Class    0\n",
       "dtype: int64"
      ]
     },
     "execution_count": 114,
     "metadata": {},
     "output_type": "execute_result"
    }
   ],
   "source": [
    "# Fill the \"F21\" column with mean value\n",
    "df[\"F21\"].fillna(df[\"F21\"].mean(), inplace=True)\n",
    "df.isna().sum()"
   ]
  },
  {
   "cell_type": "code",
   "execution_count": 115,
   "metadata": {},
   "outputs": [
    {
     "data": {
      "text/html": [
       "<div>\n",
       "<style scoped>\n",
       "    .dataframe tbody tr th:only-of-type {\n",
       "        vertical-align: middle;\n",
       "    }\n",
       "\n",
       "    .dataframe tbody tr th {\n",
       "        vertical-align: top;\n",
       "    }\n",
       "\n",
       "    .dataframe thead th {\n",
       "        text-align: right;\n",
       "    }\n",
       "</style>\n",
       "<table border=\"1\" class=\"dataframe\">\n",
       "  <thead>\n",
       "    <tr style=\"text-align: right;\">\n",
       "      <th></th>\n",
       "      <th>F1</th>\n",
       "      <th>F2</th>\n",
       "      <th>F3</th>\n",
       "      <th>F4</th>\n",
       "      <th>F5</th>\n",
       "      <th>F6</th>\n",
       "      <th>F7</th>\n",
       "      <th>F8</th>\n",
       "      <th>F9</th>\n",
       "      <th>F10</th>\n",
       "      <th>...</th>\n",
       "      <th>F13</th>\n",
       "      <th>F14</th>\n",
       "      <th>F15</th>\n",
       "      <th>F16</th>\n",
       "      <th>F17</th>\n",
       "      <th>F18</th>\n",
       "      <th>F19</th>\n",
       "      <th>F20</th>\n",
       "      <th>F21</th>\n",
       "      <th>Class</th>\n",
       "    </tr>\n",
       "  </thead>\n",
       "  <tbody>\n",
       "    <tr>\n",
       "      <th>0</th>\n",
       "      <td>1.6430</td>\n",
       "      <td>0</td>\n",
       "      <td>-4894.24</td>\n",
       "      <td>-13.0281</td>\n",
       "      <td>-4.793400</td>\n",
       "      <td>0</td>\n",
       "      <td>5.1270</td>\n",
       "      <td>-17.1100</td>\n",
       "      <td>-63.340</td>\n",
       "      <td>3.61690</td>\n",
       "      <td>...</td>\n",
       "      <td>5.783440</td>\n",
       "      <td>-11315.46</td>\n",
       "      <td>22912.53</td>\n",
       "      <td>-0.4</td>\n",
       "      <td>103811.34</td>\n",
       "      <td>5.4380</td>\n",
       "      <td>1747.920</td>\n",
       "      <td>-4879.68</td>\n",
       "      <td>-41.58000</td>\n",
       "      <td>False</td>\n",
       "    </tr>\n",
       "    <tr>\n",
       "      <th>1</th>\n",
       "      <td>0.5310</td>\n",
       "      <td>0</td>\n",
       "      <td>-5085.44</td>\n",
       "      <td>-16.2210</td>\n",
       "      <td>-3.991776</td>\n",
       "      <td>0</td>\n",
       "      <td>4.6256</td>\n",
       "      <td>-4.5800</td>\n",
       "      <td>-10.314</td>\n",
       "      <td>3.64880</td>\n",
       "      <td>...</td>\n",
       "      <td>8.180000</td>\n",
       "      <td>-12852.96</td>\n",
       "      <td>25696.44</td>\n",
       "      <td>-0.4</td>\n",
       "      <td>103884.02</td>\n",
       "      <td>5.0960</td>\n",
       "      <td>1496.080</td>\n",
       "      <td>-4186.38</td>\n",
       "      <td>-45.96000</td>\n",
       "      <td>True</td>\n",
       "    </tr>\n",
       "    <tr>\n",
       "      <th>2</th>\n",
       "      <td>0.2640</td>\n",
       "      <td>0</td>\n",
       "      <td>-7021.44</td>\n",
       "      <td>-11.7591</td>\n",
       "      <td>-6.161700</td>\n",
       "      <td>0</td>\n",
       "      <td>4.3628</td>\n",
       "      <td>-14.7118</td>\n",
       "      <td>-6.806</td>\n",
       "      <td>3.62830</td>\n",
       "      <td>...</td>\n",
       "      <td>5.760312</td>\n",
       "      <td>-11012.16</td>\n",
       "      <td>20232.84</td>\n",
       "      <td>-1.4</td>\n",
       "      <td>103987.08</td>\n",
       "      <td>2.3652</td>\n",
       "      <td>1523.412</td>\n",
       "      <td>-4067.28</td>\n",
       "      <td>-44.65056</td>\n",
       "      <td>False</td>\n",
       "    </tr>\n",
       "    <tr>\n",
       "      <th>3</th>\n",
       "      <td>0.3196</td>\n",
       "      <td>1</td>\n",
       "      <td>-4648.76</td>\n",
       "      <td>-11.8110</td>\n",
       "      <td>-4.217700</td>\n",
       "      <td>0</td>\n",
       "      <td>8.9380</td>\n",
       "      <td>-7.5360</td>\n",
       "      <td>-4.670</td>\n",
       "      <td>3.01503</td>\n",
       "      <td>...</td>\n",
       "      <td>6.437100</td>\n",
       "      <td>-10297.86</td>\n",
       "      <td>23592.84</td>\n",
       "      <td>-1.4</td>\n",
       "      <td>103842.08</td>\n",
       "      <td>4.4080</td>\n",
       "      <td>1506.810</td>\n",
       "      <td>1352.52</td>\n",
       "      <td>-44.65056</td>\n",
       "      <td>True</td>\n",
       "    </tr>\n",
       "    <tr>\n",
       "      <th>4</th>\n",
       "      <td>4.0800</td>\n",
       "      <td>0</td>\n",
       "      <td>-4877.20</td>\n",
       "      <td>-11.2635</td>\n",
       "      <td>-8.061000</td>\n",
       "      <td>1</td>\n",
       "      <td>6.2800</td>\n",
       "      <td>-14.5805</td>\n",
       "      <td>-45.920</td>\n",
       "      <td>3.60030</td>\n",
       "      <td>...</td>\n",
       "      <td>6.393200</td>\n",
       "      <td>-11527.38</td>\n",
       "      <td>24778.74</td>\n",
       "      <td>-1.4</td>\n",
       "      <td>103842.48</td>\n",
       "      <td>3.1334</td>\n",
       "      <td>1581.790</td>\n",
       "      <td>-5095.88</td>\n",
       "      <td>-45.93000</td>\n",
       "      <td>True</td>\n",
       "    </tr>\n",
       "  </tbody>\n",
       "</table>\n",
       "<p>5 rows × 22 columns</p>\n",
       "</div>"
      ],
      "text/plain": [
       "       F1  F2       F3       F4        F5  F6      F7       F8      F9  \\\n",
       "0  1.6430   0 -4894.24 -13.0281 -4.793400   0  5.1270 -17.1100 -63.340   \n",
       "1  0.5310   0 -5085.44 -16.2210 -3.991776   0  4.6256  -4.5800 -10.314   \n",
       "2  0.2640   0 -7021.44 -11.7591 -6.161700   0  4.3628 -14.7118  -6.806   \n",
       "3  0.3196   1 -4648.76 -11.8110 -4.217700   0  8.9380  -7.5360  -4.670   \n",
       "4  4.0800   0 -4877.20 -11.2635 -8.061000   1  6.2800 -14.5805 -45.920   \n",
       "\n",
       "       F10  ...       F13       F14       F15  F16        F17     F18  \\\n",
       "0  3.61690  ...  5.783440 -11315.46  22912.53 -0.4  103811.34  5.4380   \n",
       "1  3.64880  ...  8.180000 -12852.96  25696.44 -0.4  103884.02  5.0960   \n",
       "2  3.62830  ...  5.760312 -11012.16  20232.84 -1.4  103987.08  2.3652   \n",
       "3  3.01503  ...  6.437100 -10297.86  23592.84 -1.4  103842.08  4.4080   \n",
       "4  3.60030  ...  6.393200 -11527.38  24778.74 -1.4  103842.48  3.1334   \n",
       "\n",
       "        F19      F20       F21  Class  \n",
       "0  1747.920 -4879.68 -41.58000  False  \n",
       "1  1496.080 -4186.38 -45.96000   True  \n",
       "2  1523.412 -4067.28 -44.65056  False  \n",
       "3  1506.810  1352.52 -44.65056   True  \n",
       "4  1581.790 -5095.88 -45.93000   True  \n",
       "\n",
       "[5 rows x 22 columns]"
      ]
     },
     "execution_count": 115,
     "metadata": {},
     "output_type": "execute_result"
    }
   ],
   "source": [
    "df.head()"
   ]
  },
  {
   "cell_type": "markdown",
   "metadata": {},
   "source": [
    "## Modelling"
   ]
  },
  {
   "cell_type": "code",
   "execution_count": 116,
   "metadata": {},
   "outputs": [],
   "source": [
    "# Split data into X and y\n",
    "X = df.drop(\"Class\", axis=1)\n",
    "\n",
    "y = df[\"Class\"]"
   ]
  },
  {
   "cell_type": "code",
   "execution_count": 117,
   "metadata": {},
   "outputs": [
    {
     "data": {
      "text/plain": [
       "(         F1  F2       F3       F4        F5  F6       F7       F8      F9  \\\n",
       " 0    1.6430   0 -4894.24 -13.0281 -4.793400   0  5.12700 -17.1100 -63.340   \n",
       " 1    0.5310   0 -5085.44 -16.2210 -3.991776   0  4.62560  -4.5800 -10.314   \n",
       " 2    0.2640   0 -7021.44 -11.7591 -6.161700   0  4.36280 -14.7118  -6.806   \n",
       " 3    0.3196   1 -4648.76 -11.8110 -4.217700   0  8.93800  -7.5360  -4.670   \n",
       " 4    4.0800   0 -4877.20 -11.2635 -8.061000   1  6.28000 -14.5805 -45.920   \n",
       " ..      ...  ..      ...      ...       ...  ..      ...      ...     ...   \n",
       " 995  0.6828   1 -5766.04 -11.8536 -4.866600   1  7.93800 -11.1720  -8.014   \n",
       " 996  1.2240   1 -4424.64 -16.6770 -8.313000   1  4.91960 -15.1500 -12.676   \n",
       " 997  0.9912   1 -5566.64 -10.9698 -8.364000   0  3.99842 -15.4260 -17.442   \n",
       " 998  0.6697   1 -4630.96 -11.4516 -4.970700   0  8.61600 -19.5220  -1.698   \n",
       " 999  0.8394   1 -5488.44 -11.9115 -5.107200   0  7.04600 -12.8750 -13.292   \n",
       " \n",
       "          F10  ...      F12       F13       F14       F15  F16        F17  \\\n",
       " 0    3.61690  ...  -2.3600  5.783440 -11315.46  22912.53 -0.4  103811.34   \n",
       " 1    3.64880  ...  -5.9680  8.180000 -12852.96  25696.44 -0.4  103884.02   \n",
       " 2    3.62830  ...  -3.3914  5.760312 -11012.16  20232.84 -1.4  103987.08   \n",
       " 3    3.01503  ...  -2.6796  6.437100 -10297.86  23592.84 -1.4  103842.08   \n",
       " 4    3.60030  ...  -5.0060  6.393200 -11527.38  24778.74 -1.4  103842.48   \n",
       " ..       ...  ...      ...       ...       ...       ...  ...        ...   \n",
       " 995  3.27040  ...  -2.9676  7.489000 -11922.06  23569.44 -1.4  103930.52   \n",
       " 996  3.81610  ...  -4.8220  7.069000 -11328.69  24196.14 -0.4  103922.40   \n",
       " 997  3.73230  ... -10.6160  5.875600 -12229.26  18449.64 -1.4  103872.12   \n",
       " 998  3.22630  ...  -3.5940  5.761497 -10846.56  23102.40 -1.4  103837.70   \n",
       " 999  3.30530  ...  -2.5786  6.069900 -11860.29  23621.04 -0.4  103885.30   \n",
       " \n",
       "         F18       F19      F20       F21  \n",
       " 0    5.4380  1747.920 -4879.68 -41.58000  \n",
       " 1    5.0960  1496.080 -4186.38 -45.96000  \n",
       " 2    2.3652  1523.412 -4067.28 -44.65056  \n",
       " 3    4.4080  1506.810  1352.52 -44.65056  \n",
       " 4    3.1334  1581.790 -5095.88 -45.93000  \n",
       " ..      ...       ...      ...       ...  \n",
       " 995  2.8358  1551.190 -5559.68 -44.65056  \n",
       " 996  4.0364  1519.940 -4089.48 -44.65056  \n",
       " 997  3.8368  1509.360 -3772.28 -44.65056  \n",
       " 998  4.4460  1549.200 -3947.68 -40.11000  \n",
       " 999  3.4320  1522.223 -4645.08 -44.65056  \n",
       " \n",
       " [1000 rows x 21 columns],\n",
       " 0      False\n",
       " 1       True\n",
       " 2      False\n",
       " 3       True\n",
       " 4       True\n",
       "        ...  \n",
       " 995    False\n",
       " 996    False\n",
       " 997     True\n",
       " 998    False\n",
       " 999     True\n",
       " Name: Class, Length: 1000, dtype: bool)"
      ]
     },
     "execution_count": 117,
     "metadata": {},
     "output_type": "execute_result"
    }
   ],
   "source": [
    "X,y"
   ]
  },
  {
   "cell_type": "code",
   "execution_count": 118,
   "metadata": {},
   "outputs": [],
   "source": [
    "# Split data into train and test sets\n",
    "np.random.seed(42)\n",
    "\n",
    "# Split into train & test set\n",
    "X_train, X_test, y_train, y_test = train_test_split(X,\n",
    "                                                    y,\n",
    "                                                    test_size=0.2)"
   ]
  },
  {
   "cell_type": "code",
   "execution_count": 119,
   "metadata": {},
   "outputs": [
    {
     "data": {
      "text/plain": [
       "(800, 200, 800, 200)"
      ]
     },
     "execution_count": 119,
     "metadata": {},
     "output_type": "execute_result"
    }
   ],
   "source": [
    "len(X_train),len(X_test),len(y_train),len(y_test)"
   ]
  },
  {
   "cell_type": "markdown",
   "metadata": {},
   "source": [
    "## We're going to try 3 different machine learning models:\n",
    "\n",
    "- Logistic Regression\n",
    "- K-Nearest Neighbours Classifier\n",
    "- Random Forest Classifier (Decision Tree)\n"
   ]
  },
  {
   "cell_type": "code",
   "execution_count": 120,
   "metadata": {},
   "outputs": [],
   "source": [
    "# Put models in a dictionary\n",
    "models = {\"Logistic Regression\": LogisticRegression(),\n",
    "          \"KNN\": KNeighborsClassifier(),\n",
    "          \"Random Forest\": RandomForestClassifier(),\n",
    "          \"SVC\":svm.SVC(),\n",
    "          \"Linear SVC\":LinearSVC()}\n",
    "\n",
    "# Create a function to fit and score models\n",
    "def fit_and_score(models, X_train, X_test, y_train, y_test):\n",
    "    \"\"\"\n",
    "    Fits and evaluates given machine learning models.\n",
    "    models : a dict of differetn Scikit-Learn machine learning models\n",
    "    X_train : training data (no labels)\n",
    "    X_test : testing data (no labels)\n",
    "    y_train : training labels\n",
    "    y_test : test labels\n",
    "    \"\"\"\n",
    "    # Set random seed\n",
    "    np.random.seed(42)\n",
    "    # Make a dictionary to keep model scores\n",
    "    model_scores = {}\n",
    "    # Loop through models\n",
    "    for name, model in models.items():\n",
    "        # Fit the model to the data\n",
    "        model.fit(X_train, y_train)\n",
    "        # Evaluate the model and append its score to model_scores\n",
    "        model_scores[name] = model.score(X_test, y_test)\n",
    "    return model_scores"
   ]
  },
  {
   "cell_type": "code",
   "execution_count": 121,
   "metadata": {},
   "outputs": [
    {
     "name": "stderr",
     "output_type": "stream",
     "text": [
      "/Users/sujithchennat/Desktop/KTPML/env/lib/python3.9/site-packages/sklearn/linear_model/_logistic.py:814: ConvergenceWarning: lbfgs failed to converge (status=1):\n",
      "STOP: TOTAL NO. of ITERATIONS REACHED LIMIT.\n",
      "\n",
      "Increase the number of iterations (max_iter) or scale the data as shown in:\n",
      "    https://scikit-learn.org/stable/modules/preprocessing.html\n",
      "Please also refer to the documentation for alternative solver options:\n",
      "    https://scikit-learn.org/stable/modules/linear_model.html#logistic-regression\n",
      "  n_iter_i = _check_optimize_result(\n",
      "/Users/sujithchennat/Desktop/KTPML/env/lib/python3.9/site-packages/sklearn/svm/_base.py:1206: ConvergenceWarning: Liblinear failed to converge, increase the number of iterations.\n",
      "  warnings.warn(\n"
     ]
    },
    {
     "data": {
      "text/plain": [
       "{'Logistic Regression': 0.73,\n",
       " 'KNN': 0.65,\n",
       " 'Random Forest': 0.865,\n",
       " 'SVC': 0.455,\n",
       " 'Linear SVC': 0.575}"
      ]
     },
     "execution_count": 121,
     "metadata": {},
     "output_type": "execute_result"
    }
   ],
   "source": [
    "model_scores = fit_and_score(models=models,\n",
    "                             X_train=X_train,\n",
    "                             X_test=X_test,\n",
    "                             y_train=y_train,\n",
    "                             y_test=y_test)\n",
    "\n",
    "model_scores"
   ]
  },
  {
   "cell_type": "code",
   "execution_count": 122,
   "metadata": {},
   "outputs": [
    {
     "data": {
      "image/png": "[encoded data removed]",
      "text/plain": [
       "<Figure size 432x288 with 1 Axes>"
      ]
     },
     "metadata": {
      "needs_background": "light"
     },
     "output_type": "display_data"
    }
   ],
   "source": [
    "model_compare = pd.DataFrame(model_scores, index=[\"accuracy\"])\n",
    "model_compare.T.plot.bar();"
   ]
  },
  {
   "cell_type": "markdown",
   "metadata": {},
   "source": [
    "# Trying Different Classification Model Evaluation Metrics/Techniques:\n",
    "Let's look at the following:\n",
    "\n",
    "- Hypyterparameter tuning\n",
    "- Feature importance\n",
    "- Confusion matrix\n",
    "- Cross-validation\n",
    "- Precision\n",
    "- Recall\n",
    "- F1 score\n",
    "- Classification report\n",
    "- ROC curve\n",
    "- Area under the curve (AUC)"
   ]
  },
  {
   "cell_type": "markdown",
   "metadata": {},
   "source": [
    "## Hyperparameter tuning (by hand)"
   ]
  },
  {
   "cell_type": "code",
   "execution_count": 123,
   "metadata": {},
   "outputs": [],
   "source": [
    "# Let's tune KNN\n",
    "\n",
    "train_scores = []\n",
    "test_scores = []\n",
    "\n",
    "# Create a list of differnt values for n_neighbors\n",
    "neighbors = range(1, 21)\n",
    "\n",
    "# Setup KNN instance\n",
    "knn = KNeighborsClassifier()\n",
    "\n",
    "# Loop through different n_neighbors\n",
    "for i in neighbors:\n",
    "    knn.set_params(n_neighbors=i)\n",
    "    \n",
    "    # Fit the algorithm\n",
    "    knn.fit(X_train, y_train)\n",
    "    \n",
    "    # Update the training scores list\n",
    "    train_scores.append(knn.score(X_train, y_train))\n",
    "    \n",
    "    # Update the test scores list\n",
    "    test_scores.append(knn.score(X_test, y_test))"
   ]
  },
  {
   "cell_type": "code",
   "execution_count": 124,
   "metadata": {},
   "outputs": [
    {
     "name": "stdout",
     "output_type": "stream",
     "text": [
      "Maximum KNN score on the test data: 70.00%\n"
     ]
    },
    {
     "data": {
      "image/png": "[encoded data removed]",
      "text/plain": [
       "<Figure size 432x288 with 1 Axes>"
      ]
     },
     "metadata": {
      "needs_background": "light"
     },
     "output_type": "display_data"
    }
   ],
   "source": [
    "plt.plot(neighbors, train_scores, label=\"Train score\")\n",
    "plt.plot(neighbors, test_scores, label=\"Test score\")\n",
    "plt.xticks(np.arange(1, 21, 1))\n",
    "plt.xlabel(\"Number of neighbors\")\n",
    "plt.ylabel(\"Model score\")\n",
    "plt.legend()\n",
    "\n",
    "print(f\"Maximum KNN score on the test data: {max(test_scores)*100:.2f}%\")"
   ]
  },
  {
   "cell_type": "markdown",
   "metadata": {},
   "source": [
    "## Hyperparameter tuning with RandomizedSearchCV\n",
    "\n",
    "- LogisticRegression()"
   ]
  },
  {
   "cell_type": "code",
   "execution_count": 125,
   "metadata": {},
   "outputs": [],
   "source": [
    "# Create a hyperparameter grid for LogisticRegression\n",
    "log_reg_grid = {\"C\": np.logspace(-4, 4, 20),\n",
    "                \"solver\": [\"liblinear\"]}\n",
    "\n",
    "# Create a hyperparameter grid for RandomForestClassifier\n",
    "rf_grid = {\"n_estimators\": np.arange(10, 1000, 50),\n",
    "           \"max_depth\": [None, 3, 5, 10],\n",
    "           \"min_samples_split\": np.arange(2, 20, 2),\n",
    "           \"min_samples_leaf\": np.arange(1, 20, 2)}"
   ]
  },
  {
   "cell_type": "code",
   "execution_count": 126,
   "metadata": {},
   "outputs": [
    {
     "name": "stdout",
     "output_type": "stream",
     "text": [
      "Fitting 5 folds for each of 20 candidates, totalling 100 fits\n"
     ]
    },
    {
     "data": {
      "text/plain": [
       "RandomizedSearchCV(cv=5, estimator=LogisticRegression(), n_iter=20,\n",
       "                   param_distributions={'C': array([1.00000000e-04, 2.63665090e-04, 6.95192796e-04, 1.83298071e-03,\n",
       "       4.83293024e-03, 1.27427499e-02, 3.35981829e-02, 8.85866790e-02,\n",
       "       2.33572147e-01, 6.15848211e-01, 1.62377674e+00, 4.28133240e+00,\n",
       "       1.12883789e+01, 2.97635144e+01, 7.84759970e+01, 2.06913808e+02,\n",
       "       5.45559478e+02, 1.43844989e+03, 3.79269019e+03, 1.00000000e+04]),\n",
       "                                        'solver': ['liblinear']},\n",
       "                   verbose=True)"
      ]
     },
     "execution_count": 126,
     "metadata": {},
     "output_type": "execute_result"
    }
   ],
   "source": [
    "# Tune LogisticRegression\n",
    "\n",
    "np.random.seed(42)\n",
    "\n",
    "# Setup random hyperparameter search for LogisticRegression\n",
    "rs_log_reg = RandomizedSearchCV(LogisticRegression(),\n",
    "                                param_distributions=log_reg_grid,\n",
    "                                cv=5,\n",
    "                                n_iter=20,\n",
    "                                verbose=True)\n",
    "\n",
    "# Fit random hyperparameter search model for LogisticRegression\n",
    "rs_log_reg.fit(X_train, y_train)"
   ]
  },
  {
   "cell_type": "code",
   "execution_count": 127,
   "metadata": {},
   "outputs": [
    {
     "data": {
      "text/plain": [
       "{'solver': 'liblinear', 'C': 0.012742749857031334}"
      ]
     },
     "execution_count": 127,
     "metadata": {},
     "output_type": "execute_result"
    }
   ],
   "source": [
    "# Find the best hyperparameters\n",
    "rs_log_reg.best_params_"
   ]
  },
  {
   "cell_type": "code",
   "execution_count": 128,
   "metadata": {},
   "outputs": [
    {
     "data": {
      "text/plain": [
       "0.745"
      ]
     },
     "execution_count": 128,
     "metadata": {},
     "output_type": "execute_result"
    }
   ],
   "source": [
    "# Evaluate the randomized search on LogisticRegression\n",
    "rs_log_reg.score(X_test, y_test)"
   ]
  },
  {
   "cell_type": "markdown",
   "metadata": {},
   "source": [
    "## Hyperparameter tuning with RandomizedSearchCV\n",
    "\n",
    "- RandomForestClassifier()"
   ]
  },
  {
   "cell_type": "code",
   "execution_count": 129,
   "metadata": {},
   "outputs": [
    {
     "name": "stdout",
     "output_type": "stream",
     "text": [
      "Fitting 5 folds for each of 20 candidates, totalling 100 fits\n"
     ]
    },
    {
     "data": {
      "text/plain": [
       "RandomizedSearchCV(cv=5, estimator=RandomForestClassifier(), n_iter=20,\n",
       "                   param_distributions={'max_depth': [None, 3, 5, 10],\n",
       "                                        'min_samples_leaf': array([ 1,  3,  5,  7,  9, 11, 13, 15, 17, 19]),\n",
       "                                        'min_samples_split': array([ 2,  4,  6,  8, 10, 12, 14, 16, 18]),\n",
       "                                        'n_estimators': array([ 10,  60, 110, 160, 210, 260, 310, 360, 410, 460, 510, 560, 610,\n",
       "       660, 710, 760, 810, 860, 910, 960])},\n",
       "                   verbose=True)"
      ]
     },
     "execution_count": 129,
     "metadata": {},
     "output_type": "execute_result"
    }
   ],
   "source": [
    "# Setup random seed\n",
    "np.random.seed(42)\n",
    "\n",
    "# Setup random hyperparameter search for RandomForestClassifier\n",
    "rs_rf = RandomizedSearchCV(RandomForestClassifier(), \n",
    "                           param_distributions=rf_grid,\n",
    "                           cv=5,\n",
    "                           n_iter=20,\n",
    "                           verbose=True)\n",
    "\n",
    "# Fit random hyperparameter search model for RandomForestClassifier()\n",
    "rs_rf.fit(X_train, y_train)"
   ]
  },
  {
   "cell_type": "code",
   "execution_count": 130,
   "metadata": {},
   "outputs": [
    {
     "data": {
      "text/plain": [
       "{'n_estimators': 710,\n",
       " 'min_samples_split': 16,\n",
       " 'min_samples_leaf': 3,\n",
       " 'max_depth': 10}"
      ]
     },
     "execution_count": 130,
     "metadata": {},
     "output_type": "execute_result"
    }
   ],
   "source": [
    "# Find the best hyperparameters\n",
    "rs_rf.best_params_"
   ]
  },
  {
   "cell_type": "code",
   "execution_count": 131,
   "metadata": {},
   "outputs": [
    {
     "data": {
      "text/plain": [
       "0.88"
      ]
     },
     "execution_count": 131,
     "metadata": {},
     "output_type": "execute_result"
    }
   ],
   "source": [
    "# Evaluate the randomized search RandomForestClassifier model\n",
    "rs_rf.score(X_test, y_test)"
   ]
  },
  {
   "cell_type": "markdown",
   "metadata": {},
   "source": [
    "## Hyperparamter Tuning with GridSearchCV\n",
    "\n",
    "- LogisticRegression"
   ]
  },
  {
   "cell_type": "code",
   "execution_count": 132,
   "metadata": {},
   "outputs": [
    {
     "name": "stdout",
     "output_type": "stream",
     "text": [
      "Fitting 5 folds for each of 30 candidates, totalling 150 fits\n"
     ]
    }
   ],
   "source": [
    "# Different hyperparameters for our LogisticRegression model\n",
    "log_reg_grid = {\"C\": np.logspace(-4, 4, 30),\n",
    "                \"solver\": [\"liblinear\"]}\n",
    "\n",
    "# Setup grid hyperparameter search for LogisticRegression\n",
    "gs_log_reg = GridSearchCV(LogisticRegression(),\n",
    "                          param_grid=log_reg_grid,\n",
    "                          cv=5,\n",
    "                          verbose=True)\n",
    "\n",
    "# Fit grid hyperparameter search model\n",
    "gs_log_reg.fit(X_train, y_train);"
   ]
  },
  {
   "cell_type": "code",
   "execution_count": 133,
   "metadata": {},
   "outputs": [
    {
     "data": {
      "text/plain": [
       "{'C': 0.05736152510448681, 'solver': 'liblinear'}"
      ]
     },
     "execution_count": 133,
     "metadata": {},
     "output_type": "execute_result"
    }
   ],
   "source": [
    "# Check the best hyperparmaters\n",
    "gs_log_reg.best_params_"
   ]
  },
  {
   "cell_type": "code",
   "execution_count": 134,
   "metadata": {},
   "outputs": [
    {
     "data": {
      "text/plain": [
       "0.735"
      ]
     },
     "execution_count": 134,
     "metadata": {},
     "output_type": "execute_result"
    }
   ],
   "source": [
    "# Evaluate the grid search LogisticRegression model\n",
    "gs_log_reg.score(X_test, y_test)"
   ]
  },
  {
   "cell_type": "markdown",
   "metadata": {},
   "source": [
    "## Hyperparamter Tuning with GridSearchCV\n",
    "\n",
    "- RandomForest\n"
   ]
  },
  {
   "cell_type": "code",
   "execution_count": null,
   "metadata": {},
   "outputs": [],
   "source": []
  },
  {
   "cell_type": "code",
   "execution_count": 135,
   "metadata": {},
   "outputs": [
    {
     "name": "stdout",
     "output_type": "stream",
     "text": [
      "Fitting 5 folds for each of 12 candidates, totalling 60 fits\n"
     ]
    }
   ],
   "source": [
    "np.random.seed(42)\n",
    "\n",
    "\n",
    "# Different hyperparameters for our RandomForest model\n",
    "Rand_forest_grid = {'n_estimators': [100, 200, 500],\n",
    "          'max_depth': [None],\n",
    "          'max_features': ['auto', 'sqrt'],\n",
    "          'min_samples_split': [6],\n",
    "          'min_samples_leaf': [1, 2]}\n",
    "\n",
    "\n",
    "# Setup grid hyperparameter search for RandomForest\n",
    "gs_Rand_forest = GridSearchCV(RandomForestClassifier(),\n",
    "                          param_grid=Rand_forest_grid,\n",
    "                          cv=5,\n",
    "                          verbose=True)\n",
    "\n",
    "# Fit grid hyperparameter search model\n",
    "gs_Rand_forest.fit(X_train, y_train);"
   ]
  },
  {
   "cell_type": "code",
   "execution_count": 136,
   "metadata": {},
   "outputs": [
    {
     "data": {
      "text/plain": [
       "{'max_depth': None,\n",
       " 'max_features': 'auto',\n",
       " 'min_samples_leaf': 2,\n",
       " 'min_samples_split': 6,\n",
       " 'n_estimators': 500}"
      ]
     },
     "execution_count": 136,
     "metadata": {},
     "output_type": "execute_result"
    }
   ],
   "source": [
    "# Check the best hyperparmaters\n",
    "gs_Rand_forest.best_params_"
   ]
  },
  {
   "cell_type": "code",
   "execution_count": 137,
   "metadata": {},
   "outputs": [
    {
     "data": {
      "text/plain": [
       "0.865"
      ]
     },
     "execution_count": 137,
     "metadata": {},
     "output_type": "execute_result"
    }
   ],
   "source": [
    "# Evaluate the grid search Random Foresr model\n",
    "gs_Rand_forest.score(X_test, y_test)"
   ]
  },
  {
   "cell_type": "markdown",
   "metadata": {},
   "source": [
    "## Evaluting our tuned machine learning classifier, beyond accuracy\n",
    "\n",
    "- ROC curve and AUC score\n",
    "- Confusion matrix\n",
    "- Classification report\n",
    "- Precision\n",
    "- Recall\n",
    "- F1-score"
   ]
  },
  {
   "cell_type": "code",
   "execution_count": 138,
   "metadata": {},
   "outputs": [
    {
     "data": {
      "text/plain": [
       "array([ True,  True, False, False,  True,  True, False, False,  True,\n",
       "        True,  True, False,  True,  True, False,  True, False,  True,\n",
       "        True, False,  True, False, False, False, False, False, False,\n",
       "        True,  True,  True, False,  True,  True,  True,  True, False,\n",
       "       False, False,  True, False,  True, False,  True, False, False,\n",
       "       False, False, False,  True,  True, False,  True, False, False,\n",
       "        True,  True,  True,  True, False,  True,  True,  True, False,\n",
       "        True, False, False,  True,  True,  True, False,  True,  True,\n",
       "       False,  True, False, False, False, False,  True, False, False,\n",
       "        True,  True, False,  True, False, False, False,  True,  True,\n",
       "        True, False,  True, False,  True,  True,  True, False,  True,\n",
       "       False,  True, False, False,  True, False, False,  True,  True,\n",
       "       False, False,  True,  True, False, False, False, False, False,\n",
       "        True,  True, False,  True,  True,  True,  True, False,  True,\n",
       "        True,  True,  True, False,  True, False, False, False,  True,\n",
       "       False, False, False, False, False, False, False, False,  True,\n",
       "        True, False,  True, False, False,  True, False,  True,  True,\n",
       "       False,  True,  True, False,  True,  True,  True, False, False,\n",
       "        True, False, False,  True, False,  True, False,  True,  True,\n",
       "       False, False,  True, False,  True, False, False,  True,  True,\n",
       "        True, False, False, False, False,  True,  True, False, False,\n",
       "       False, False, False, False,  True, False,  True,  True, False,\n",
       "       False,  True])"
      ]
     },
     "execution_count": 138,
     "metadata": {},
     "output_type": "execute_result"
    }
   ],
   "source": [
    "# Make predictions with tuned model\n",
    "y_preds = gs_Rand_forest.predict(X_test)\n",
    "y_preds"
   ]
  },
  {
   "cell_type": "code",
   "execution_count": 139,
   "metadata": {},
   "outputs": [
    {
     "name": "stderr",
     "output_type": "stream",
     "text": [
      "/Users/sujithchennat/Desktop/KTPML/env/lib/python3.9/site-packages/sklearn/utils/deprecation.py:87: FutureWarning: Function plot_roc_curve is deprecated; Function :func:`plot_roc_curve` is deprecated in 1.0 and will be removed in 1.2. Use one of the class methods: :meth:`sklearn.metric.RocCurveDisplay.from_predictions` or :meth:`sklearn.metric.RocCurveDisplay.from_estimator`.\n",
      "  warnings.warn(msg, category=FutureWarning)\n"
     ]
    },
    {
     "data": {
      "text/plain": [
       "<sklearn.metrics._plot.roc_curve.RocCurveDisplay at 0x7fc342e08760>"
      ]
     },
     "execution_count": 139,
     "metadata": {},
     "output_type": "execute_result"
    },
    {
     "data": {
      "image/png": "[encoded data removed]",
      "text/plain": [
       "<Figure size 432x288 with 1 Axes>"
      ]
     },
     "metadata": {
      "needs_background": "light"
     },
     "output_type": "display_data"
    }
   ],
   "source": [
    "# Plot ROC curve and calculate and calculate AUC metric\n",
    "plot_roc_curve(gs_Rand_forest, X_test, y_test)"
   ]
  },
  {
   "cell_type": "code",
   "execution_count": 140,
   "metadata": {},
   "outputs": [
    {
     "data": {
      "image/png": "[encoded data removed]",
      "text/plain": [
       "<Figure size 216x216 with 1 Axes>"
      ]
     },
     "metadata": {},
     "output_type": "display_data"
    }
   ],
   "source": [
    "# Confusion matrix\n",
    "\n",
    "sns.set(font_scale=1.5)\n",
    "\n",
    "def plot_conf_mat(y_test, y_preds):\n",
    "    \"\"\"\n",
    "    Plots a nice looking confusion matrix using Seaborn's heatmap()\n",
    "    \"\"\"\n",
    "    fig, ax = plt.subplots(figsize=(3, 3))\n",
    "    ax = sns.heatmap(confusion_matrix(y_test, y_preds),\n",
    "                     annot=True,\n",
    "                     cbar=False)\n",
    "    plt.xlabel(\"True label\")\n",
    "    plt.ylabel(\"Predicted label\")\n",
    "    \n",
    "    bottom, top = ax.get_ylim()\n",
    "    ax.set_ylim(bottom + 0.5, top - 0.5)\n",
    "    \n",
    "plot_conf_mat(y_test, y_preds)"
   ]
  },
  {
   "cell_type": "code",
   "execution_count": 141,
   "metadata": {},
   "outputs": [
    {
     "name": "stdout",
     "output_type": "stream",
     "text": [
      "              precision    recall  f1-score   support\n",
      "\n",
      "       False       0.89      0.85      0.87       108\n",
      "        True       0.84      0.88      0.86        92\n",
      "\n",
      "    accuracy                           0.86       200\n",
      "   macro avg       0.86      0.87      0.86       200\n",
      "weighted avg       0.87      0.86      0.87       200\n",
      "\n"
     ]
    }
   ],
   "source": [
    "print(classification_report(y_test, y_preds))"
   ]
  },
  {
   "cell_type": "markdown",
   "metadata": {},
   "source": [
    "### Calculate evaluation metrics using cross-validation\n",
    "\n",
    "We're going to calculate accuracy, precision, recall and f1-score of our model using cross-validation and to do so we'll be using cross_val_score()."
   ]
  },
  {
   "cell_type": "code",
   "execution_count": 142,
   "metadata": {},
   "outputs": [
    {
     "data": {
      "text/plain": [
       "{'n_estimators': 710,\n",
       " 'min_samples_split': 16,\n",
       " 'min_samples_leaf': 3,\n",
       " 'max_depth': 10}"
      ]
     },
     "execution_count": 142,
     "metadata": {},
     "output_type": "execute_result"
    }
   ],
   "source": [
    "# Check best hyperparameters\n",
    "rs_rf.best_params_"
   ]
  },
  {
   "cell_type": "code",
   "execution_count": 143,
   "metadata": {},
   "outputs": [
    {
     "name": "stdout",
     "output_type": "stream",
     "text": [
      "Fitting 5 folds for each of 20 candidates, totalling 100 fits\n",
      "Fitting 5 folds for each of 20 candidates, totalling 100 fits\n",
      "Fitting 5 folds for each of 20 candidates, totalling 100 fits\n",
      "Fitting 5 folds for each of 20 candidates, totalling 100 fits\n",
      "Fitting 5 folds for each of 20 candidates, totalling 100 fits\n"
     ]
    },
    {
     "data": {
      "text/plain": [
       "array([0.86 , 0.9  , 0.86 , 0.825, 0.82 ])"
      ]
     },
     "execution_count": 143,
     "metadata": {},
     "output_type": "execute_result"
    }
   ],
   "source": [
    "# Cross-validated accuracy\n",
    "cv_acc = cross_val_score(rs_rf,\n",
    "                         X,\n",
    "                         y,\n",
    "                         cv=5,\n",
    "                         scoring=\"accuracy\")\n",
    "cv_acc"
   ]
  },
  {
   "cell_type": "code",
   "execution_count": 144,
   "metadata": {},
   "outputs": [
    {
     "data": {
      "text/plain": [
       "0.8530000000000001"
      ]
     },
     "execution_count": 144,
     "metadata": {},
     "output_type": "execute_result"
    }
   ],
   "source": [
    "cv_acc = np.mean(cv_acc)\n",
    "cv_acc"
   ]
  },
  {
   "cell_type": "code",
   "execution_count": 145,
   "metadata": {},
   "outputs": [
    {
     "name": "stdout",
     "output_type": "stream",
     "text": [
      "Fitting 5 folds for each of 20 candidates, totalling 100 fits\n",
      "Fitting 5 folds for each of 20 candidates, totalling 100 fits\n",
      "Fitting 5 folds for each of 20 candidates, totalling 100 fits\n",
      "Fitting 5 folds for each of 20 candidates, totalling 100 fits\n",
      "Fitting 5 folds for each of 20 candidates, totalling 100 fits\n"
     ]
    },
    {
     "data": {
      "text/plain": [
       "0.8463473784816088"
      ]
     },
     "execution_count": 145,
     "metadata": {},
     "output_type": "execute_result"
    }
   ],
   "source": [
    "# Cross-validated precision\n",
    "cv_precision = cross_val_score(rs_rf,\n",
    "                         X,\n",
    "                         y,\n",
    "                         cv=5,\n",
    "                         scoring=\"precision\")\n",
    "cv_precision=np.mean(cv_precision)\n",
    "cv_precision"
   ]
  },
  {
   "cell_type": "code",
   "execution_count": 146,
   "metadata": {},
   "outputs": [
    {
     "name": "stdout",
     "output_type": "stream",
     "text": [
      "Fitting 5 folds for each of 20 candidates, totalling 100 fits\n",
      "Fitting 5 folds for each of 20 candidates, totalling 100 fits\n",
      "Fitting 5 folds for each of 20 candidates, totalling 100 fits\n",
      "Fitting 5 folds for each of 20 candidates, totalling 100 fits\n",
      "Fitting 5 folds for each of 20 candidates, totalling 100 fits\n"
     ]
    },
    {
     "data": {
      "text/plain": [
       "0.8557173364395263"
      ]
     },
     "execution_count": 146,
     "metadata": {},
     "output_type": "execute_result"
    }
   ],
   "source": [
    "# Cross-validated recall\n",
    "cv_recall = cross_val_score(rs_rf,\n",
    "                         X,\n",
    "                         y,\n",
    "                         cv=5,\n",
    "                         scoring=\"recall\")\n",
    "cv_recall = np.mean(cv_recall)\n",
    "cv_recall"
   ]
  },
  {
   "cell_type": "code",
   "execution_count": 147,
   "metadata": {},
   "outputs": [
    {
     "name": "stdout",
     "output_type": "stream",
     "text": [
      "Fitting 5 folds for each of 20 candidates, totalling 100 fits\n",
      "Fitting 5 folds for each of 20 candidates, totalling 100 fits\n",
      "Fitting 5 folds for each of 20 candidates, totalling 100 fits\n",
      "Fitting 5 folds for each of 20 candidates, totalling 100 fits\n",
      "Fitting 5 folds for each of 20 candidates, totalling 100 fits\n"
     ]
    },
    {
     "data": {
      "text/plain": [
       "0.8654750950150969"
      ]
     },
     "execution_count": 147,
     "metadata": {},
     "output_type": "execute_result"
    }
   ],
   "source": [
    "# Cross-validated f1-score\n",
    "cv_f1 = cross_val_score(rs_rf,\n",
    "                         X,\n",
    "                         y,\n",
    "                         cv=5,\n",
    "                         scoring=\"f1\")\n",
    "cv_f1 = np.mean(cv_f1)\n",
    "cv_f1"
   ]
  },
  {
   "cell_type": "code",
   "execution_count": 148,
   "metadata": {},
   "outputs": [
    {
     "data": {
      "image/png": "[encoded data removed]",
      "text/plain": [
       "<Figure size 432x288 with 1 Axes>"
      ]
     },
     "metadata": {},
     "output_type": "display_data"
    }
   ],
   "source": [
    "# Visualize cross-validated metrics\n",
    "cv_metrics = pd.DataFrame({\"Accuracy\": cv_acc,\n",
    "                           \"Precision\": cv_precision,\n",
    "                           \"Recall\": cv_recall,\n",
    "                           \"F1\": cv_f1},\n",
    "                          index=[0])\n",
    "\n",
    "cv_metrics.T.plot.bar(title=\"Cross-validated classification metrics\",\n",
    "                      legend=False);"
   ]
  },
  {
   "cell_type": "markdown",
   "metadata": {},
   "source": [
    "### Part B"
   ]
  },
  {
   "cell_type": "code",
   "execution_count": 149,
   "metadata": {},
   "outputs": [],
   "source": [
    "# HERE YOU WILL USE THIS TEMPLATE TO SAVE THE PREDICTIONS ON THE TEST SET\n",
    "\n",
    "# Load the test data\n",
    "test_df = pd.read_csv('P1_Test.csv')\n",
    "\n",
    "# Make sure you work on a copy\n",
    "test_data = test_df.iloc[:,:-1].copy()\n",
    "\n",
    "# TO fix the \"Input contain NAN values\" error\n",
    "test_data[\"F21\"].fillna(test_data[\"F21\"].mean(), inplace=True)\n",
    "test_data.isna().sum()\n",
    "\n",
    "# we are using the model RandomForest RandmizedsearchCV which result 88% accuracy\n",
    "predicted = rs_rf.predict(test_data)\n",
    "predicted\n",
    "\n",
    "# Replace the last (empty) column with your prediction\n",
    "test_df.iloc[:,-1] = predicted\n",
    "\n",
    "# Save to the destination file\n",
    "test_df.to_csv('P1_Test_Predictions.csv', index=False, float_format='%.8g')\n",
    "\n",
    "# IMPORTANT!! Make sure only the last column has changed\n",
    "assert pd.read_csv('P1_Test.csv').iloc[:,:-1].equals(pd.read_csv('P1_Test_Predictions.csv').iloc[:,:-1])"
   ]
  }
 ],
 "metadata": {
  "kernelspec": {
   "display_name": "Python 3 (ipykernel)",
   "language": "python",
   "name": "python3"
  },
  "language_info": {
   "codemirror_mode": {
    "name": "ipython",
    "version": 3
   },
   "file_extension": ".py",
   "mimetype": "text/x-python",
   "name": "python",
   "nbconvert_exporter": "python",
   "pygments_lexer": "ipython3",
   "version": "3.9.7"
  }
 },
 "nbformat": 4,
 "nbformat_minor": 4
}
